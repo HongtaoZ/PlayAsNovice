{
 "cells": [
  {
   "cell_type": "markdown",
   "metadata": {},
   "source": [
    "## 加载数据"
   ]
  },
  {
   "cell_type": "code",
   "execution_count": 1,
   "metadata": {},
   "outputs": [],
   "source": [
    "%matplotlib inline\n",
    "import matplotlib.pyplot as plt\n",
    "import pandas as pd\n",
    "import numpy as np\n",
    "from sklearn.model_selection import train_test_split\n",
    "from sklearn.ensemble import RandomForestClassifier\n",
    "from sklearn.model_selection import cross_val_score"
   ]
  },
  {
   "cell_type": "code",
   "execution_count": 2,
   "metadata": {},
   "outputs": [
    {
     "name": "stdout",
     "output_type": "stream",
     "text": [
      "25317\n",
      "10852\n"
     ]
    }
   ],
   "source": [
    "trainData = pd.read_csv('./data/train_set.csv')\n",
    "testData  = pd.read_csv('./data/test_set.csv')\n",
    "trainDataLen = len(trainData)\n",
    "testDataLen = len(testData)\n",
    "print(trainDataLen)\n",
    "print(testDataLen)\n",
    "\n",
    "data = pd.concat([trainData, testData], sort = False)"
   ]
  },
  {
   "cell_type": "code",
   "execution_count": 3,
   "metadata": {
    "scrolled": true
   },
   "outputs": [
    {
     "name": "stdout",
     "output_type": "stream",
     "text": [
      "   ID  age         job   marital  education default  balance housing loan  \\\n",
      "0   1   43  management   married   tertiary      no      291     yes   no   \n",
      "1   2   42  technician  divorced    primary      no     5076     yes   no   \n",
      "2   3   47      admin.   married  secondary      no      104     yes  yes   \n",
      "3   4   28  management    single  secondary      no     -994     yes  yes   \n",
      "4   5   42  technician  divorced  secondary      no     2974     yes   no   \n",
      "\n",
      "    contact  day month  duration  campaign  pdays  previous poutcome    y  \n",
      "0   unknown    9   may       150         2     -1         0  unknown  0.0  \n",
      "1  cellular    7   apr        99         1    251         2    other  0.0  \n",
      "2  cellular   14   jul        77         2     -1         0  unknown  0.0  \n",
      "3  cellular   18   jul       174         2     -1         0  unknown  0.0  \n",
      "4   unknown   21   may       187         5     -1         0  unknown  0.0  \n"
     ]
    }
   ],
   "source": [
    "# 查看数据信息\n",
    "print(data.head())"
   ]
  },
  {
   "cell_type": "code",
   "execution_count": 4,
   "metadata": {
    "scrolled": true
   },
   "outputs": [
    {
     "name": "stdout",
     "output_type": "stream",
     "text": [
      "                ID           age        balance           day      duration  \\\n",
      "count  36169.00000  36169.000000   36169.000000  36169.000000  36169.000000   \n",
      "mean   18085.00000     40.966961    1368.237026     15.788742    257.574497   \n",
      "std    10441.23528     10.639679    3098.876172      8.314523    255.040668   \n",
      "min        1.00000     18.000000   -8019.000000      1.000000      0.000000   \n",
      "25%     9043.00000     33.000000      73.000000      8.000000    103.000000   \n",
      "50%    18085.00000     39.000000     449.000000     16.000000    181.000000   \n",
      "75%    27127.00000     48.000000    1437.000000     21.000000    318.000000   \n",
      "max    36169.00000     95.000000  102127.000000     31.000000   3881.000000   \n",
      "\n",
      "           campaign         pdays      previous             y  \n",
      "count  36169.000000  36169.000000  36169.000000  25317.000000  \n",
      "mean       2.771545     40.160552      0.578147      0.116957  \n",
      "std        3.114445    100.005886      2.365582      0.321375  \n",
      "min        1.000000     -1.000000      0.000000      0.000000  \n",
      "25%        1.000000     -1.000000      0.000000      0.000000  \n",
      "50%        2.000000     -1.000000      0.000000      0.000000  \n",
      "75%        3.000000     -1.000000      0.000000      0.000000  \n",
      "max       58.000000    871.000000    275.000000      1.000000  \n"
     ]
    }
   ],
   "source": [
    "# 只包含数值型信息?\n",
    "print(data.describe())"
   ]
  },
  {
   "cell_type": "code",
   "execution_count": 5,
   "metadata": {
    "scrolled": false
   },
   "outputs": [
    {
     "name": "stdout",
     "output_type": "stream",
     "text": [
      "<class 'pandas.core.frame.DataFrame'>\n",
      "Int64Index: 36169 entries, 0 to 10851\n",
      "Data columns (total 18 columns):\n",
      "ID           36169 non-null int64\n",
      "age          36169 non-null int64\n",
      "job          36169 non-null object\n",
      "marital      36169 non-null object\n",
      "education    36169 non-null object\n",
      "default      36169 non-null object\n",
      "balance      36169 non-null int64\n",
      "housing      36169 non-null object\n",
      "loan         36169 non-null object\n",
      "contact      36169 non-null object\n",
      "day          36169 non-null int64\n",
      "month        36169 non-null object\n",
      "duration     36169 non-null int64\n",
      "campaign     36169 non-null int64\n",
      "pdays        36169 non-null int64\n",
      "previous     36169 non-null int64\n",
      "poutcome     36169 non-null object\n",
      "y            25317 non-null float64\n",
      "dtypes: float64(1), int64(8), object(9)\n",
      "memory usage: 5.2+ MB\n",
      "None\n"
     ]
    }
   ],
   "source": [
    "# 查看数据信息\n",
    "print(data.info())"
   ]
  },
  {
   "cell_type": "code",
   "execution_count": 6,
   "metadata": {
    "scrolled": false
   },
   "outputs": [],
   "source": [
    "# 查看所有object的枚举类型\n",
    "# 帅选出object类型\n",
    "def objectInfoView(data):\n",
    "    columnObjects = data.columns[data.dtypes==\"object\"]\n",
    "    dic = {}\n",
    "    for object in columnObjects:\n",
    "        dic[object] = data[object].unique()\n",
    "    return dic"
   ]
  },
  {
   "cell_type": "code",
   "execution_count": 7,
   "metadata": {},
   "outputs": [
    {
     "name": "stdout",
     "output_type": "stream",
     "text": [
      "{'job': array(['management', 'technician', 'admin.', 'services', 'retired',\n",
      "       'student', 'blue-collar', 'unknown', 'entrepreneur', 'housemaid',\n",
      "       'self-employed', 'unemployed'], dtype=object), 'marital': array(['married', 'divorced', 'single'], dtype=object), 'education': array(['tertiary', 'primary', 'secondary', 'unknown'], dtype=object), 'default': array(['no', 'yes'], dtype=object), 'housing': array(['yes', 'no'], dtype=object), 'loan': array(['no', 'yes'], dtype=object), 'contact': array(['unknown', 'cellular', 'telephone'], dtype=object), 'month': array(['may', 'apr', 'jul', 'jun', 'nov', 'aug', 'jan', 'feb', 'dec',\n",
      "       'oct', 'sep', 'mar'], dtype=object), 'poutcome': array(['unknown', 'other', 'failure', 'success'], dtype=object)}\n"
     ]
    }
   ],
   "source": [
    "print(objectInfoView(data))"
   ]
  },
  {
   "cell_type": "markdown",
   "metadata": {},
   "source": [
    "## 数据预处理"
   ]
  },
  {
   "cell_type": "markdown",
   "metadata": {},
   "source": [
    "| NO |  字段名称 | 数据类型 |                             字段描述                            |\n",
    "|:--:|:---------:|:--------:|:---------------------------------------------------------------:|\n",
    "|  1 |     ID    |    Int   |                           客户唯一标识                          |\n",
    "|  2 |    age    |    Int   |                             客户年龄                            |\n",
    "|  3 |    job    |  String  |                            客户的职业                           |\n",
    "|  4 |  marital  |  String  |                             婚姻状况                            |\n",
    "|  5 | education |  String  |                            受教育水平                           |\n",
    "|  6 |  default  |  String  |                          是否有违约记录                         |\n",
    "|  7 |  balance  |    Int   |                        每年账户的平均余额                       |\n",
    "|  8 |  housing  |  String  |                          是否有住房贷款                         |\n",
    "|  9 |    loan   |  String  |                          是否有个人贷款                         |\n",
    "| 10 |  contact  |  String  |                       与客户联系的沟通方式                      |\n",
    "| 11 |    day    |    Int   |                    最后一次联系的时间（几号）                   |\n",
    "| 12 |   month   |  String  |                    最后一次联系的时间（月份）                   |\n",
    "| 13 |  duration |    Int   |                      最后一次联系的交流时长                     |\n",
    "| 14 |  campaign |    Int   |                在本次活动中，与该客户交流过的次数               |\n",
    "| 15 |   pdays   |    Int   | 距离上次活动最后一次联系该客户，过去了多久（999表示没有联系过） |\n",
    "| 16 |  previous |    Int   |               在本次活动之前，与该客户交流过的次数              |\n",
    "| 17 |  poutcome |  String  |                         上一次活动的结果                        |\n",
    "| 18 |     y     |    Int   |                  预测客户是否会订购定期存款业务                 |"
   ]
  },
  {
   "cell_type": "markdown",
   "metadata": {},
   "source": [
    "**对于文本类型的数据**\n",
    "- job: 管理, 技术, 服务, 学生等。 对于未知的应该怎么处理?\n",
    "- education: 高等教育, 中等教育, 初级教育, 未知。 对于未知的数据要怎么处理?\n",
    "- contact: 沟通方式, 网络, 电话和未知。\n",
    "- poutcome: 上一次活动的结果, 未知, 其他, 失败和成功。 未知怎么处理?"
   ]
  },
  {
   "cell_type": "markdown",
   "metadata": {},
   "source": [
    "**对于数值类型的数据**\n",
    "-  ID: 做删除处理\n",
    "-  pdays: 999代表为联系过, -1代表刚联系过? "
   ]
  },
  {
   "cell_type": "code",
   "execution_count": 8,
   "metadata": {},
   "outputs": [
    {
     "name": "stdout",
     "output_type": "stream",
     "text": [
      "Index(['ID', 'age', 'job', 'marital', 'education', 'default', 'balance',\n",
      "       'housing', 'loan', 'contact', 'day', 'month', 'duration', 'campaign',\n",
      "       'pdays', 'previous', 'poutcome', 'y'],\n",
      "      dtype='object')\n",
      "   age         job   marital  education default  balance housing loan  \\\n",
      "0   43  management   married   tertiary      no      291     yes   no   \n",
      "1   42  technician  divorced    primary      no     5076     yes   no   \n",
      "2   47      admin.   married  secondary      no      104     yes  yes   \n",
      "3   28  management    single  secondary      no     -994     yes  yes   \n",
      "4   42  technician  divorced  secondary      no     2974     yes   no   \n",
      "\n",
      "    contact  duration  campaign  pdays  previous poutcome    y  \n",
      "0   unknown       150         2     -1         0  unknown  0.0  \n",
      "1  cellular        99         1    251         2    other  0.0  \n",
      "2  cellular        77         2     -1         0  unknown  0.0  \n",
      "3  cellular       174         2     -1         0  unknown  0.0  \n",
      "4   unknown       187         5     -1         0  unknown  0.0  \n"
     ]
    }
   ],
   "source": [
    "# 删除id， 同时删除上一次联系的日期, 此数据与 pdays 重复, 且为文本型数据, 不宜处理。\n",
    "print(data.columns)\n",
    "noIdData = data.drop(['ID','day','month'],axis = 1)\n",
    "print(noIdData.head())"
   ]
  },
  {
   "cell_type": "code",
   "execution_count": 9,
   "metadata": {
    "scrolled": false
   },
   "outputs": [
    {
     "name": "stdout",
     "output_type": "stream",
     "text": [
      "   job_admin.  job_blue-collar  job_entrepreneur  job_housemaid  \\\n",
      "0           0                0                 0              0   \n",
      "1           0                0                 0              0   \n",
      "2           1                0                 0              0   \n",
      "3           0                0                 0              0   \n",
      "4           0                0                 0              0   \n",
      "\n",
      "   job_management  job_retired  job_self-employed  job_services  job_student  \\\n",
      "0               1            0                  0             0            0   \n",
      "1               0            0                  0             0            0   \n",
      "2               0            0                  0             0            0   \n",
      "3               1            0                  0             0            0   \n",
      "4               0            0                  0             0            0   \n",
      "\n",
      "   job_technician  ...  housing_yes  loan_no  loan_yes  contact_cellular  \\\n",
      "0               0  ...            1        1         0                 0   \n",
      "1               1  ...            1        1         0                 1   \n",
      "2               0  ...            1        0         1                 1   \n",
      "3               0  ...            1        0         1                 1   \n",
      "4               1  ...            1        1         0                 0   \n",
      "\n",
      "   contact_telephone  contact_unknown  poutcome_failure  poutcome_other  \\\n",
      "0                  0                1                 0               0   \n",
      "1                  0                0                 0               1   \n",
      "2                  0                0                 0               0   \n",
      "3                  0                0                 0               0   \n",
      "4                  0                1                 0               0   \n",
      "\n",
      "   poutcome_success  poutcome_unknown  \n",
      "0                 0                 1  \n",
      "1                 0                 0  \n",
      "2                 0                 1  \n",
      "3                 0                 1  \n",
      "4                 0                 1  \n",
      "\n",
      "[5 rows x 32 columns]\n"
     ]
    }
   ],
   "source": [
    "# 把类别量装换为指示变量(one-hot encoding)\n",
    "columnNames = noIdData.columns[noIdData.dtypes==\"object\"]\n",
    "dummy = pd.get_dummies(noIdData[columnNames])\n",
    "print(dummy.head())"
   ]
  },
  {
   "cell_type": "code",
   "execution_count": 10,
   "metadata": {},
   "outputs": [
    {
     "name": "stdout",
     "output_type": "stream",
     "text": [
      "job_admin. [0 1]\n",
      "job_blue-collar [0 1]\n",
      "job_entrepreneur [0 1]\n",
      "job_housemaid [0 1]\n",
      "job_management [1 0]\n",
      "job_retired [0 1]\n",
      "job_self-employed [0 1]\n",
      "job_services [0 1]\n",
      "job_student [0 1]\n",
      "job_technician [0 1]\n",
      "job_unemployed [0 1]\n",
      "job_unknown [0 1]\n",
      "marital_divorced [0 1]\n",
      "marital_married [1 0]\n",
      "marital_single [0 1]\n",
      "education_primary [0 1]\n",
      "education_secondary [0 1]\n",
      "education_tertiary [1 0]\n",
      "education_unknown [0 1]\n",
      "default_no [1 0]\n",
      "default_yes [0 1]\n",
      "housing_no [0 1]\n",
      "housing_yes [1 0]\n",
      "loan_no [1 0]\n",
      "loan_yes [0 1]\n",
      "contact_cellular [0 1]\n",
      "contact_telephone [0 1]\n",
      "contact_unknown [1 0]\n",
      "poutcome_failure [0 1]\n",
      "poutcome_other [0 1]\n",
      "poutcome_success [0 1]\n",
      "poutcome_unknown [1 0]\n"
     ]
    }
   ],
   "source": [
    "# 查看数据范围, 都是0-1, 把每个变量的每个属性作为一个单独的变量。\n",
    "for column in dummy.columns:\n",
    "    print(column, dummy[column].unique())"
   ]
  },
  {
   "cell_type": "code",
   "execution_count": 11,
   "metadata": {},
   "outputs": [
    {
     "name": "stdout",
     "output_type": "stream",
     "text": [
      "   job_admin.  job_blue-collar  job_entrepreneur  job_housemaid  \\\n",
      "0           0                0                 0              0   \n",
      "1           0                0                 0              0   \n",
      "2           1                0                 0              0   \n",
      "3           0                0                 0              0   \n",
      "4           0                0                 0              0   \n",
      "\n",
      "   job_management  job_retired  job_self-employed  job_services  job_student  \\\n",
      "0               1            0                  0             0            0   \n",
      "1               0            0                  0             0            0   \n",
      "2               0            0                  0             0            0   \n",
      "3               1            0                  0             0            0   \n",
      "4               0            0                  0             0            0   \n",
      "\n",
      "   job_technician  ...  poutcome_other  poutcome_success  poutcome_unknown  \\\n",
      "0               0  ...               0                 0                 1   \n",
      "1               1  ...               1                 0                 0   \n",
      "2               0  ...               0                 0                 1   \n",
      "3               0  ...               0                 0                 1   \n",
      "4               1  ...               0                 0                 1   \n",
      "\n",
      "   age  balance  duration  campaign  pdays  previous    y  \n",
      "0   43      291       150         2     -1         0  0.0  \n",
      "1   42     5076        99         1    251         2  0.0  \n",
      "2   47      104        77         2     -1         0  0.0  \n",
      "3   28     -994       174         2     -1         0  0.0  \n",
      "4   42     2974       187         5     -1         0  0.0  \n",
      "\n",
      "[5 rows x 39 columns]\n"
     ]
    }
   ],
   "source": [
    "columnNames = noIdData.columns[noIdData.dtypes==\"object\"]\n",
    "noIdData.drop(columnNames, inplace=True, axis=1)\n",
    "train = pd.concat([dummy, noIdData], axis=1)\n",
    "print(train.head())"
   ]
  },
  {
   "cell_type": "markdown",
   "metadata": {},
   "source": [
    "## 划分数据集"
   ]
  },
  {
   "cell_type": "code",
   "execution_count": 12,
   "metadata": {
    "scrolled": false
   },
   "outputs": [],
   "source": [
    "X1 = train[train.columns[:-1]][:trainDataLen]\n",
    "y1 = train['y'][:trainDataLen]\n",
    "xTrain, xTest, yTrain, yTest = train_test_split(X1, y1, test_size=0.3,random_state=88)"
   ]
  },
  {
   "cell_type": "markdown",
   "metadata": {},
   "source": [
    "## 算法模型搭建\n",
    "### 随机森林算法"
   ]
  },
  {
   "cell_type": "code",
   "execution_count": 13,
   "metadata": {},
   "outputs": [
    {
     "name": "stdout",
     "output_type": "stream",
     "text": [
      "0.9015860238669078 91\n"
     ]
    },
    {
     "data": {
      "image/png": "[encoded data removed]",
      "text/plain": [
       "<Figure size 1440x360 with 1 Axes>"
      ]
     },
     "metadata": {
      "needs_background": "light"
     },
     "output_type": "display_data"
    }
   ],
   "source": [
    "# 先评估参数\n",
    "scorel = []\n",
    "for i in range(0,200,10):      #从[0,200)只取能被10整除的数\n",
    "    rfc = RandomForestClassifier(n_estimators=i+1,   #森林里（决策）树的数目。\n",
    "                                 n_jobs=-1, # \n",
    "                                 random_state=90)\n",
    "    score = cross_val_score(rfc,xTrain,yTrain,cv=10).mean()    #过传入的模型，训练十次，最后将十次结果求平均值。将每个数据集都算一次\n",
    "    scorel.append(score)\n",
    "print(max(scorel),(scorel.index(max(scorel))*10)+1)\n",
    "plt.figure(figsize=[20,5])\n",
    "plt.plot(range(1,201,10),scorel)\n",
    "plt.show()"
   ]
  },
  {
   "cell_type": "markdown",
   "metadata": {},
   "source": [
    "### 确认参数建立模型"
   ]
  },
  {
   "cell_type": "code",
   "execution_count": 14,
   "metadata": {},
   "outputs": [
    {
     "name": "stdout",
     "output_type": "stream",
     "text": [
      "0.8992890995260664\n"
     ]
    }
   ],
   "source": [
    "rfc = RandomForestClassifier(n_estimators=91, random_state=88)\n",
    "rfc.fit(xTrain, yTrain)\n",
    "print(rfc.score(xTest, yTest))"
   ]
  },
  {
   "cell_type": "markdown",
   "metadata": {},
   "source": [
    "## 输出比赛结果"
   ]
  },
  {
   "cell_type": "code",
   "execution_count": 15,
   "metadata": {},
   "outputs": [],
   "source": [
    "X2 = train[train.columns[:-1]][trainDataLen:]\n",
    "pred = rfc.predict_proba(X2)\n",
    "resultData = pd.DataFrame(pred, index=testData['ID'], columns=['pred0', 'pred'])\n",
    "resultData.drop('pred0', axis=1, inplace=True)\n",
    "resultData.to_csv('result.csv')"
   ]
  },
  {
   "cell_type": "code",
   "execution_count": null,
   "metadata": {},
   "outputs": [],
   "source": []
  }
 ],
 "metadata": {
  "kernelspec": {
   "display_name": "Python 3",
   "language": "python",
   "name": "python3"
  },
  "language_info": {
   "codemirror_mode": {
    "name": "ipython",
    "version": 3
   },
   "file_extension": ".py",
   "mimetype": "text/x-python",
   "name": "python",
   "nbconvert_exporter": "python",
   "pygments_lexer": "ipython3",
   "version": "3.7.3"
  }
 },
 "nbformat": 4,
 "nbformat_minor": 2
}
