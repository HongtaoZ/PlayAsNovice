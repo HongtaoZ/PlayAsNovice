{
 "cells": [
  {
   "cell_type": "markdown",
   "metadata": {},
   "source": [
    "## 读取数据"
   ]
  },
  {
   "cell_type": "code",
   "execution_count": 1,
   "metadata": {},
   "outputs": [],
   "source": [
    "# 加载依赖\n",
    "%matplotlib inline\n",
    "import matplotlib.pyplot as plt\n",
    "import pandas as pd\n",
    "import numpy as np\n",
    "\n",
    "from sklearn.model_selection import train_test_split\n",
    "from sklearn.model_selection import cross_val_score\n",
    "from sklearn.model_selection import KFold\n",
    "\n",
    "from sklearn.preprocessing import OneHotEncoder,LabelEncoder\n",
    "from sklearn.preprocessing import StandardScaler\n",
    "\n",
    "from sklearn.feature_selection import SelectKBest\n",
    "from sklearn.feature_selection import chi2\n",
    "\n",
    "from sklearn.metrics import roc_auc_score\n",
    "\n",
    "from sklearn.model_selection import GridSearchCV\n",
    "\n",
    "import lightgbm as lgb\n",
    "\n",
    "from tqdm import tqdm"
   ]
  },
  {
   "cell_type": "code",
   "execution_count": 2,
   "metadata": {},
   "outputs": [
    {
     "data": {
      "text/html": [
       "<div>\n",
       "<style scoped>\n",
       "    .dataframe tbody tr th:only-of-type {\n",
       "        vertical-align: middle;\n",
       "    }\n",
       "\n",
       "    .dataframe tbody tr th {\n",
       "        vertical-align: top;\n",
       "    }\n",
       "\n",
       "    .dataframe thead th {\n",
       "        text-align: right;\n",
       "    }\n",
       "</style>\n",
       "<table border=\"1\" class=\"dataframe\">\n",
       "  <thead>\n",
       "    <tr style=\"text-align: right;\">\n",
       "      <th></th>\n",
       "      <th>ID</th>\n",
       "      <th>age</th>\n",
       "      <th>job</th>\n",
       "      <th>marital</th>\n",
       "      <th>education</th>\n",
       "      <th>default</th>\n",
       "      <th>balance</th>\n",
       "      <th>housing</th>\n",
       "      <th>loan</th>\n",
       "      <th>contact</th>\n",
       "      <th>day</th>\n",
       "      <th>month</th>\n",
       "      <th>duration</th>\n",
       "      <th>campaign</th>\n",
       "      <th>pdays</th>\n",
       "      <th>previous</th>\n",
       "      <th>poutcome</th>\n",
       "      <th>y</th>\n",
       "    </tr>\n",
       "  </thead>\n",
       "  <tbody>\n",
       "    <tr>\n",
       "      <th>0</th>\n",
       "      <td>1</td>\n",
       "      <td>43</td>\n",
       "      <td>management</td>\n",
       "      <td>married</td>\n",
       "      <td>tertiary</td>\n",
       "      <td>no</td>\n",
       "      <td>291</td>\n",
       "      <td>yes</td>\n",
       "      <td>no</td>\n",
       "      <td>unknown</td>\n",
       "      <td>9</td>\n",
       "      <td>may</td>\n",
       "      <td>150</td>\n",
       "      <td>2</td>\n",
       "      <td>-1</td>\n",
       "      <td>0</td>\n",
       "      <td>unknown</td>\n",
       "      <td>0.0</td>\n",
       "    </tr>\n",
       "    <tr>\n",
       "      <th>1</th>\n",
       "      <td>2</td>\n",
       "      <td>42</td>\n",
       "      <td>technician</td>\n",
       "      <td>divorced</td>\n",
       "      <td>primary</td>\n",
       "      <td>no</td>\n",
       "      <td>5076</td>\n",
       "      <td>yes</td>\n",
       "      <td>no</td>\n",
       "      <td>cellular</td>\n",
       "      <td>7</td>\n",
       "      <td>apr</td>\n",
       "      <td>99</td>\n",
       "      <td>1</td>\n",
       "      <td>251</td>\n",
       "      <td>2</td>\n",
       "      <td>other</td>\n",
       "      <td>0.0</td>\n",
       "    </tr>\n",
       "    <tr>\n",
       "      <th>2</th>\n",
       "      <td>3</td>\n",
       "      <td>47</td>\n",
       "      <td>admin.</td>\n",
       "      <td>married</td>\n",
       "      <td>secondary</td>\n",
       "      <td>no</td>\n",
       "      <td>104</td>\n",
       "      <td>yes</td>\n",
       "      <td>yes</td>\n",
       "      <td>cellular</td>\n",
       "      <td>14</td>\n",
       "      <td>jul</td>\n",
       "      <td>77</td>\n",
       "      <td>2</td>\n",
       "      <td>-1</td>\n",
       "      <td>0</td>\n",
       "      <td>unknown</td>\n",
       "      <td>0.0</td>\n",
       "    </tr>\n",
       "    <tr>\n",
       "      <th>3</th>\n",
       "      <td>4</td>\n",
       "      <td>28</td>\n",
       "      <td>management</td>\n",
       "      <td>single</td>\n",
       "      <td>secondary</td>\n",
       "      <td>no</td>\n",
       "      <td>-994</td>\n",
       "      <td>yes</td>\n",
       "      <td>yes</td>\n",
       "      <td>cellular</td>\n",
       "      <td>18</td>\n",
       "      <td>jul</td>\n",
       "      <td>174</td>\n",
       "      <td>2</td>\n",
       "      <td>-1</td>\n",
       "      <td>0</td>\n",
       "      <td>unknown</td>\n",
       "      <td>0.0</td>\n",
       "    </tr>\n",
       "    <tr>\n",
       "      <th>4</th>\n",
       "      <td>5</td>\n",
       "      <td>42</td>\n",
       "      <td>technician</td>\n",
       "      <td>divorced</td>\n",
       "      <td>secondary</td>\n",
       "      <td>no</td>\n",
       "      <td>2974</td>\n",
       "      <td>yes</td>\n",
       "      <td>no</td>\n",
       "      <td>unknown</td>\n",
       "      <td>21</td>\n",
       "      <td>may</td>\n",
       "      <td>187</td>\n",
       "      <td>5</td>\n",
       "      <td>-1</td>\n",
       "      <td>0</td>\n",
       "      <td>unknown</td>\n",
       "      <td>0.0</td>\n",
       "    </tr>\n",
       "  </tbody>\n",
       "</table>\n",
       "</div>"
      ],
      "text/plain": [
       "   ID  age         job   marital  education default  balance housing loan  \\\n",
       "0   1   43  management   married   tertiary      no      291     yes   no   \n",
       "1   2   42  technician  divorced    primary      no     5076     yes   no   \n",
       "2   3   47      admin.   married  secondary      no      104     yes  yes   \n",
       "3   4   28  management    single  secondary      no     -994     yes  yes   \n",
       "4   5   42  technician  divorced  secondary      no     2974     yes   no   \n",
       "\n",
       "    contact  day month  duration  campaign  pdays  previous poutcome    y  \n",
       "0   unknown    9   may       150         2     -1         0  unknown  0.0  \n",
       "1  cellular    7   apr        99         1    251         2    other  0.0  \n",
       "2  cellular   14   jul        77         2     -1         0  unknown  0.0  \n",
       "3  cellular   18   jul       174         2     -1         0  unknown  0.0  \n",
       "4   unknown   21   may       187         5     -1         0  unknown  0.0  "
      ]
     },
     "execution_count": 2,
     "metadata": {},
     "output_type": "execute_result"
    }
   ],
   "source": [
    "trainData = pd.read_csv('./data/train_set.csv')\n",
    "testData = pd.read_csv('./data/test_set.csv')\n",
    "trainDataLen = trainData.shape[0]\n",
    "\n",
    "allData = pd.concat([trainData, testData], sort=False)\n",
    "allData.head()"
   ]
  },
  {
   "cell_type": "markdown",
   "metadata": {},
   "source": [
    "##  参数配置"
   ]
  },
  {
   "cell_type": "code",
   "execution_count": null,
   "metadata": {},
   "outputs": [],
   "source": []
  },
  {
   "cell_type": "markdown",
   "metadata": {},
   "source": [
    "## 数据分析"
   ]
  },
  {
   "cell_type": "code",
   "execution_count": 3,
   "metadata": {},
   "outputs": [
    {
     "data": {
      "text/html": [
       "<div>\n",
       "<style scoped>\n",
       "    .dataframe tbody tr th:only-of-type {\n",
       "        vertical-align: middle;\n",
       "    }\n",
       "\n",
       "    .dataframe tbody tr th {\n",
       "        vertical-align: top;\n",
       "    }\n",
       "\n",
       "    .dataframe thead th {\n",
       "        text-align: right;\n",
       "    }\n",
       "</style>\n",
       "<table border=\"1\" class=\"dataframe\">\n",
       "  <thead>\n",
       "    <tr style=\"text-align: right;\">\n",
       "      <th></th>\n",
       "      <th>ID</th>\n",
       "      <th>age</th>\n",
       "      <th>balance</th>\n",
       "      <th>day</th>\n",
       "      <th>duration</th>\n",
       "      <th>campaign</th>\n",
       "      <th>pdays</th>\n",
       "      <th>previous</th>\n",
       "      <th>y</th>\n",
       "    </tr>\n",
       "  </thead>\n",
       "  <tbody>\n",
       "    <tr>\n",
       "      <th>count</th>\n",
       "      <td>36169.00000</td>\n",
       "      <td>36169.000000</td>\n",
       "      <td>36169.000000</td>\n",
       "      <td>36169.000000</td>\n",
       "      <td>36169.000000</td>\n",
       "      <td>36169.000000</td>\n",
       "      <td>36169.000000</td>\n",
       "      <td>36169.000000</td>\n",
       "      <td>25317.000000</td>\n",
       "    </tr>\n",
       "    <tr>\n",
       "      <th>mean</th>\n",
       "      <td>18085.00000</td>\n",
       "      <td>40.966961</td>\n",
       "      <td>1368.237026</td>\n",
       "      <td>15.788742</td>\n",
       "      <td>257.574497</td>\n",
       "      <td>2.771545</td>\n",
       "      <td>40.160552</td>\n",
       "      <td>0.578147</td>\n",
       "      <td>0.116957</td>\n",
       "    </tr>\n",
       "    <tr>\n",
       "      <th>std</th>\n",
       "      <td>10441.23528</td>\n",
       "      <td>10.639679</td>\n",
       "      <td>3098.876172</td>\n",
       "      <td>8.314523</td>\n",
       "      <td>255.040668</td>\n",
       "      <td>3.114445</td>\n",
       "      <td>100.005886</td>\n",
       "      <td>2.365582</td>\n",
       "      <td>0.321375</td>\n",
       "    </tr>\n",
       "    <tr>\n",
       "      <th>min</th>\n",
       "      <td>1.00000</td>\n",
       "      <td>18.000000</td>\n",
       "      <td>-8019.000000</td>\n",
       "      <td>1.000000</td>\n",
       "      <td>0.000000</td>\n",
       "      <td>1.000000</td>\n",
       "      <td>-1.000000</td>\n",
       "      <td>0.000000</td>\n",
       "      <td>0.000000</td>\n",
       "    </tr>\n",
       "    <tr>\n",
       "      <th>25%</th>\n",
       "      <td>9043.00000</td>\n",
       "      <td>33.000000</td>\n",
       "      <td>73.000000</td>\n",
       "      <td>8.000000</td>\n",
       "      <td>103.000000</td>\n",
       "      <td>1.000000</td>\n",
       "      <td>-1.000000</td>\n",
       "      <td>0.000000</td>\n",
       "      <td>0.000000</td>\n",
       "    </tr>\n",
       "    <tr>\n",
       "      <th>50%</th>\n",
       "      <td>18085.00000</td>\n",
       "      <td>39.000000</td>\n",
       "      <td>449.000000</td>\n",
       "      <td>16.000000</td>\n",
       "      <td>181.000000</td>\n",
       "      <td>2.000000</td>\n",
       "      <td>-1.000000</td>\n",
       "      <td>0.000000</td>\n",
       "      <td>0.000000</td>\n",
       "    </tr>\n",
       "    <tr>\n",
       "      <th>75%</th>\n",
       "      <td>27127.00000</td>\n",
       "      <td>48.000000</td>\n",
       "      <td>1437.000000</td>\n",
       "      <td>21.000000</td>\n",
       "      <td>318.000000</td>\n",
       "      <td>3.000000</td>\n",
       "      <td>-1.000000</td>\n",
       "      <td>0.000000</td>\n",
       "      <td>0.000000</td>\n",
       "    </tr>\n",
       "    <tr>\n",
       "      <th>max</th>\n",
       "      <td>36169.00000</td>\n",
       "      <td>95.000000</td>\n",
       "      <td>102127.000000</td>\n",
       "      <td>31.000000</td>\n",
       "      <td>3881.000000</td>\n",
       "      <td>58.000000</td>\n",
       "      <td>871.000000</td>\n",
       "      <td>275.000000</td>\n",
       "      <td>1.000000</td>\n",
       "    </tr>\n",
       "  </tbody>\n",
       "</table>\n",
       "</div>"
      ],
      "text/plain": [
       "                ID           age        balance           day      duration  \\\n",
       "count  36169.00000  36169.000000   36169.000000  36169.000000  36169.000000   \n",
       "mean   18085.00000     40.966961    1368.237026     15.788742    257.574497   \n",
       "std    10441.23528     10.639679    3098.876172      8.314523    255.040668   \n",
       "min        1.00000     18.000000   -8019.000000      1.000000      0.000000   \n",
       "25%     9043.00000     33.000000      73.000000      8.000000    103.000000   \n",
       "50%    18085.00000     39.000000     449.000000     16.000000    181.000000   \n",
       "75%    27127.00000     48.000000    1437.000000     21.000000    318.000000   \n",
       "max    36169.00000     95.000000  102127.000000     31.000000   3881.000000   \n",
       "\n",
       "           campaign         pdays      previous             y  \n",
       "count  36169.000000  36169.000000  36169.000000  25317.000000  \n",
       "mean       2.771545     40.160552      0.578147      0.116957  \n",
       "std        3.114445    100.005886      2.365582      0.321375  \n",
       "min        1.000000     -1.000000      0.000000      0.000000  \n",
       "25%        1.000000     -1.000000      0.000000      0.000000  \n",
       "50%        2.000000     -1.000000      0.000000      0.000000  \n",
       "75%        3.000000     -1.000000      0.000000      0.000000  \n",
       "max       58.000000    871.000000    275.000000      1.000000  "
      ]
     },
     "execution_count": 3,
     "metadata": {},
     "output_type": "execute_result"
    }
   ],
   "source": [
    "allData.describe()"
   ]
  },
  {
   "cell_type": "code",
   "execution_count": 4,
   "metadata": {},
   "outputs": [],
   "source": [
    "def uniqueValueOfDF(data):\n",
    "    dic = {}\n",
    "    objects = data.columns[data.dtypes=='object']\n",
    "    max_len = 0\n",
    "    for obj in objects:\n",
    "        dic[obj] = pd.Series(sorted(data[obj].unique()))\n",
    "        max_len = max(max_len, len(dic[obj]))\n",
    "    \n",
    "    return pd.DataFrame(dic).fillna('-')"
   ]
  },
  {
   "cell_type": "code",
   "execution_count": 5,
   "metadata": {},
   "outputs": [
    {
     "data": {
      "text/html": [
       "<div>\n",
       "<style scoped>\n",
       "    .dataframe tbody tr th:only-of-type {\n",
       "        vertical-align: middle;\n",
       "    }\n",
       "\n",
       "    .dataframe tbody tr th {\n",
       "        vertical-align: top;\n",
       "    }\n",
       "\n",
       "    .dataframe thead th {\n",
       "        text-align: right;\n",
       "    }\n",
       "</style>\n",
       "<table border=\"1\" class=\"dataframe\">\n",
       "  <thead>\n",
       "    <tr style=\"text-align: right;\">\n",
       "      <th></th>\n",
       "      <th>job</th>\n",
       "      <th>marital</th>\n",
       "      <th>education</th>\n",
       "      <th>default</th>\n",
       "      <th>housing</th>\n",
       "      <th>loan</th>\n",
       "      <th>contact</th>\n",
       "      <th>month</th>\n",
       "      <th>poutcome</th>\n",
       "    </tr>\n",
       "  </thead>\n",
       "  <tbody>\n",
       "    <tr>\n",
       "      <th>0</th>\n",
       "      <td>admin.</td>\n",
       "      <td>divorced</td>\n",
       "      <td>primary</td>\n",
       "      <td>no</td>\n",
       "      <td>no</td>\n",
       "      <td>no</td>\n",
       "      <td>cellular</td>\n",
       "      <td>apr</td>\n",
       "      <td>failure</td>\n",
       "    </tr>\n",
       "    <tr>\n",
       "      <th>1</th>\n",
       "      <td>blue-collar</td>\n",
       "      <td>married</td>\n",
       "      <td>secondary</td>\n",
       "      <td>yes</td>\n",
       "      <td>yes</td>\n",
       "      <td>yes</td>\n",
       "      <td>telephone</td>\n",
       "      <td>aug</td>\n",
       "      <td>other</td>\n",
       "    </tr>\n",
       "    <tr>\n",
       "      <th>2</th>\n",
       "      <td>entrepreneur</td>\n",
       "      <td>single</td>\n",
       "      <td>tertiary</td>\n",
       "      <td>-</td>\n",
       "      <td>-</td>\n",
       "      <td>-</td>\n",
       "      <td>unknown</td>\n",
       "      <td>dec</td>\n",
       "      <td>success</td>\n",
       "    </tr>\n",
       "    <tr>\n",
       "      <th>3</th>\n",
       "      <td>housemaid</td>\n",
       "      <td>-</td>\n",
       "      <td>unknown</td>\n",
       "      <td>-</td>\n",
       "      <td>-</td>\n",
       "      <td>-</td>\n",
       "      <td>-</td>\n",
       "      <td>feb</td>\n",
       "      <td>unknown</td>\n",
       "    </tr>\n",
       "    <tr>\n",
       "      <th>4</th>\n",
       "      <td>management</td>\n",
       "      <td>-</td>\n",
       "      <td>-</td>\n",
       "      <td>-</td>\n",
       "      <td>-</td>\n",
       "      <td>-</td>\n",
       "      <td>-</td>\n",
       "      <td>jan</td>\n",
       "      <td>-</td>\n",
       "    </tr>\n",
       "    <tr>\n",
       "      <th>5</th>\n",
       "      <td>retired</td>\n",
       "      <td>-</td>\n",
       "      <td>-</td>\n",
       "      <td>-</td>\n",
       "      <td>-</td>\n",
       "      <td>-</td>\n",
       "      <td>-</td>\n",
       "      <td>jul</td>\n",
       "      <td>-</td>\n",
       "    </tr>\n",
       "    <tr>\n",
       "      <th>6</th>\n",
       "      <td>self-employed</td>\n",
       "      <td>-</td>\n",
       "      <td>-</td>\n",
       "      <td>-</td>\n",
       "      <td>-</td>\n",
       "      <td>-</td>\n",
       "      <td>-</td>\n",
       "      <td>jun</td>\n",
       "      <td>-</td>\n",
       "    </tr>\n",
       "    <tr>\n",
       "      <th>7</th>\n",
       "      <td>services</td>\n",
       "      <td>-</td>\n",
       "      <td>-</td>\n",
       "      <td>-</td>\n",
       "      <td>-</td>\n",
       "      <td>-</td>\n",
       "      <td>-</td>\n",
       "      <td>mar</td>\n",
       "      <td>-</td>\n",
       "    </tr>\n",
       "    <tr>\n",
       "      <th>8</th>\n",
       "      <td>student</td>\n",
       "      <td>-</td>\n",
       "      <td>-</td>\n",
       "      <td>-</td>\n",
       "      <td>-</td>\n",
       "      <td>-</td>\n",
       "      <td>-</td>\n",
       "      <td>may</td>\n",
       "      <td>-</td>\n",
       "    </tr>\n",
       "    <tr>\n",
       "      <th>9</th>\n",
       "      <td>technician</td>\n",
       "      <td>-</td>\n",
       "      <td>-</td>\n",
       "      <td>-</td>\n",
       "      <td>-</td>\n",
       "      <td>-</td>\n",
       "      <td>-</td>\n",
       "      <td>nov</td>\n",
       "      <td>-</td>\n",
       "    </tr>\n",
       "    <tr>\n",
       "      <th>10</th>\n",
       "      <td>unemployed</td>\n",
       "      <td>-</td>\n",
       "      <td>-</td>\n",
       "      <td>-</td>\n",
       "      <td>-</td>\n",
       "      <td>-</td>\n",
       "      <td>-</td>\n",
       "      <td>oct</td>\n",
       "      <td>-</td>\n",
       "    </tr>\n",
       "    <tr>\n",
       "      <th>11</th>\n",
       "      <td>unknown</td>\n",
       "      <td>-</td>\n",
       "      <td>-</td>\n",
       "      <td>-</td>\n",
       "      <td>-</td>\n",
       "      <td>-</td>\n",
       "      <td>-</td>\n",
       "      <td>sep</td>\n",
       "      <td>-</td>\n",
       "    </tr>\n",
       "  </tbody>\n",
       "</table>\n",
       "</div>"
      ],
      "text/plain": [
       "              job   marital  education default housing loan    contact month  \\\n",
       "0          admin.  divorced    primary      no      no   no   cellular   apr   \n",
       "1     blue-collar   married  secondary     yes     yes  yes  telephone   aug   \n",
       "2    entrepreneur    single   tertiary       -       -    -    unknown   dec   \n",
       "3       housemaid         -    unknown       -       -    -          -   feb   \n",
       "4      management         -          -       -       -    -          -   jan   \n",
       "5         retired         -          -       -       -    -          -   jul   \n",
       "6   self-employed         -          -       -       -    -          -   jun   \n",
       "7        services         -          -       -       -    -          -   mar   \n",
       "8         student         -          -       -       -    -          -   may   \n",
       "9      technician         -          -       -       -    -          -   nov   \n",
       "10     unemployed         -          -       -       -    -          -   oct   \n",
       "11        unknown         -          -       -       -    -          -   sep   \n",
       "\n",
       "   poutcome  \n",
       "0   failure  \n",
       "1     other  \n",
       "2   success  \n",
       "3   unknown  \n",
       "4         -  \n",
       "5         -  \n",
       "6         -  \n",
       "7         -  \n",
       "8         -  \n",
       "9         -  \n",
       "10        -  \n",
       "11        -  "
      ]
     },
     "execution_count": 5,
     "metadata": {},
     "output_type": "execute_result"
    }
   ],
   "source": [
    "allColTypes = uniqueValueOfDF(allData)\n",
    "allColTypes"
   ]
  },
  {
   "cell_type": "code",
   "execution_count": 6,
   "metadata": {},
   "outputs": [],
   "source": [
    "# output data used to analyze late\n",
    "train_use_col = list(set(allData.columns) - set(['ID','y']))\n",
    "\n",
    "X1 = allData[train_use_col][:trainDataLen]\n",
    "y1 = allData['y'][:trainDataLen]\n",
    "\n",
    "X2 = allData[train_use_col][trainDataLen:]"
   ]
  },
  {
   "cell_type": "markdown",
   "metadata": {},
   "source": [
    "## 特征融合"
   ]
  },
  {
   "cell_type": "code",
   "execution_count": 7,
   "metadata": {},
   "outputs": [
    {
     "name": "stderr",
     "output_type": "stream",
     "text": [
      "\r",
      "  0%|                                                                                           | 0/16 [00:00<?, ?it/s]"
     ]
    },
    {
     "name": "stdout",
     "output_type": "stream",
     "text": [
      "{'duration': ['mean', 'max', 'min', 'std']}\n",
      "{'campaign': ['count', 'nunique']}\n"
     ]
    },
    {
     "name": "stderr",
     "output_type": "stream",
     "text": [
      "\r",
      " 12%|██████████▍                                                                        | 2/16 [00:00<00:00, 14.09it/s]"
     ]
    },
    {
     "name": "stdout",
     "output_type": "stream",
     "text": [
      "{'education': ['count', 'nunique']}\n"
     ]
    },
    {
     "name": "stderr",
     "output_type": "stream",
     "text": [
      "\r",
      " 19%|███████████████▌                                                                   | 3/16 [00:00<00:01, 11.51it/s]"
     ]
    },
    {
     "name": "stdout",
     "output_type": "stream",
     "text": [
      "{'day': ['mean', 'max', 'min', 'std']}\n",
      "{'balance': ['mean', 'max', 'min', 'std']}\n"
     ]
    },
    {
     "name": "stderr",
     "output_type": "stream",
     "text": [
      "\r",
      " 31%|█████████████████████████▉                                                         | 5/16 [00:00<00:00, 11.53it/s]"
     ]
    },
    {
     "name": "stdout",
     "output_type": "stream",
     "text": [
      "{'housing': ['count', 'nunique']}\n"
     ]
    },
    {
     "name": "stderr",
     "output_type": "stream",
     "text": [
      "\r",
      " 38%|███████████████████████████████▏                                                   | 6/16 [00:00<00:00, 10.18it/s]"
     ]
    },
    {
     "name": "stdout",
     "output_type": "stream",
     "text": [
      "{'age': ['mean', 'max', 'min', 'std']}\n"
     ]
    },
    {
     "name": "stderr",
     "output_type": "stream",
     "text": [
      "\r",
      " 44%|████████████████████████████████████▎                                              | 7/16 [00:00<00:00,  9.72it/s]"
     ]
    },
    {
     "name": "stdout",
     "output_type": "stream",
     "text": [
      "{'loan': ['count', 'nunique']}\n"
     ]
    },
    {
     "name": "stderr",
     "output_type": "stream",
     "text": [
      "\r",
      " 50%|█████████████████████████████████████████▌                                         | 8/16 [00:00<00:00,  8.77it/s]"
     ]
    },
    {
     "name": "stdout",
     "output_type": "stream",
     "text": [
      "{'contact': ['count', 'nunique']}\n"
     ]
    },
    {
     "name": "stderr",
     "output_type": "stream",
     "text": [
      "\r",
      " 56%|██████████████████████████████████████████████▋                                    | 9/16 [00:00<00:00,  7.86it/s]"
     ]
    },
    {
     "name": "stdout",
     "output_type": "stream",
     "text": [
      "{'month': ['count', 'nunique']}\n"
     ]
    },
    {
     "name": "stderr",
     "output_type": "stream",
     "text": [
      "\r",
      " 62%|███████████████████████████████████████████████████▎                              | 10/16 [00:01<00:00,  7.28it/s]"
     ]
    },
    {
     "name": "stdout",
     "output_type": "stream",
     "text": [
      "{'default': ['count', 'nunique']}\n"
     ]
    },
    {
     "name": "stderr",
     "output_type": "stream",
     "text": [
      "\r",
      " 69%|████████████████████████████████████████████████████████▍                         | 11/16 [00:01<00:00,  7.04it/s]"
     ]
    },
    {
     "name": "stdout",
     "output_type": "stream",
     "text": [
      "{'pdays': ['mean', 'max', 'min', 'std']}\n"
     ]
    },
    {
     "name": "stderr",
     "output_type": "stream",
     "text": [
      "\r",
      " 75%|█████████████████████████████████████████████████████████████▌                    | 12/16 [00:01<00:00,  6.84it/s]"
     ]
    },
    {
     "name": "stdout",
     "output_type": "stream",
     "text": [
      "{'previous': ['mean', 'max', 'min', 'std']}\n"
     ]
    },
    {
     "name": "stderr",
     "output_type": "stream",
     "text": [
      "\r",
      " 81%|██████████████████████████████████████████████████████████████████▋               | 13/16 [00:01<00:00,  6.50it/s]"
     ]
    },
    {
     "name": "stdout",
     "output_type": "stream",
     "text": [
      "{'job': ['count', 'nunique']}\n"
     ]
    },
    {
     "name": "stderr",
     "output_type": "stream",
     "text": [
      "\r",
      " 88%|███████████████████████████████████████████████████████████████████████▊          | 14/16 [00:01<00:00,  5.81it/s]"
     ]
    },
    {
     "name": "stdout",
     "output_type": "stream",
     "text": [
      "{'poutcome': ['count', 'nunique']}\n"
     ]
    },
    {
     "name": "stderr",
     "output_type": "stream",
     "text": [
      "\r",
      " 94%|████████████████████████████████████████████████████████████████████████████▉     | 15/16 [00:02<00:00,  5.35it/s]"
     ]
    },
    {
     "name": "stdout",
     "output_type": "stream",
     "text": [
      "{'marital': ['count', 'nunique']}\n"
     ]
    },
    {
     "name": "stderr",
     "output_type": "stream",
     "text": [
      "100%|██████████████████████████████████████████████████████████████████████████████████| 16/16 [00:02<00:00,  4.96it/s]\n"
     ]
    }
   ],
   "source": [
    "sparse_feature= ['campaign','contact','default','education','housing','job','loan','marital','month','poutcome']\n",
    "dense_feature = list(set(train_use_col)-set(sparse_feature))\n",
    "\n",
    "def get_new_columns(name,aggs):\n",
    "    l=[]\n",
    "    for k in aggs.keys():\n",
    "        for agg in aggs[k]:\n",
    "            if str(type(agg))==\"<class 'function'>\":\n",
    "                l.append(name + '_' + k + '_' + 'other')\n",
    "            else:\n",
    "                l.append(name + '_' + k + '_' + agg)\n",
    "    return l\n",
    "\n",
    "for d in tqdm(train_use_col):\n",
    "    aggs={}\n",
    "    if d in sparse_feature:\n",
    "        aggs[d]=['count','nunique']\n",
    "    if d in dense_feature:\n",
    "        aggs[d]=['mean','max','min','std']\n",
    "    temp=allData.groupby(d).agg(aggs).reset_index()\n",
    "    temp.columns=[d]+get_new_columns(d,aggs)\n",
    "    allData=pd.merge(allData,temp,on=d,how='left')"
   ]
  },
  {
   "cell_type": "code",
   "execution_count": 8,
   "metadata": {},
   "outputs": [],
   "source": [
    "for f in sparse_feature:\n",
    "    allData['count_day_month_{}'.format(f)] = allData.groupby(['day','month',f])[f].transform('count')\n",
    "    allData['count_month_{}'.format(f)] = allData.groupby(['month',f])[f].transform('count')\n",
    "    allData['count_day_{}'.format(f)] = allData.groupby(['day',f])[f].transform('count')\n",
    "    allData['count_day_month_{}/count_month_{}'.format(f,f)] = allData['count_month_{}'.format(f)]/allData['count_day_month_{}'.format(f)]"
   ]
  },
  {
   "cell_type": "code",
   "execution_count": null,
   "metadata": {},
   "outputs": [],
   "source": []
  },
  {
   "cell_type": "code",
   "execution_count": 9,
   "metadata": {},
   "outputs": [
    {
     "data": {
      "text/html": [
       "<div>\n",
       "<style scoped>\n",
       "    .dataframe tbody tr th:only-of-type {\n",
       "        vertical-align: middle;\n",
       "    }\n",
       "\n",
       "    .dataframe tbody tr th {\n",
       "        vertical-align: top;\n",
       "    }\n",
       "\n",
       "    .dataframe thead th {\n",
       "        text-align: right;\n",
       "    }\n",
       "</style>\n",
       "<table border=\"1\" class=\"dataframe\">\n",
       "  <thead>\n",
       "    <tr style=\"text-align: right;\">\n",
       "      <th></th>\n",
       "      <th>ID</th>\n",
       "      <th>age</th>\n",
       "      <th>job</th>\n",
       "      <th>marital</th>\n",
       "      <th>education</th>\n",
       "      <th>default</th>\n",
       "      <th>balance</th>\n",
       "      <th>housing</th>\n",
       "      <th>loan</th>\n",
       "      <th>contact</th>\n",
       "      <th>...</th>\n",
       "      <th>count_day_marital</th>\n",
       "      <th>count_day_month_marital/count_month_marital</th>\n",
       "      <th>count_day_month_month</th>\n",
       "      <th>count_month_month</th>\n",
       "      <th>count_day_month</th>\n",
       "      <th>count_day_month_month/count_month_month</th>\n",
       "      <th>count_day_month_poutcome</th>\n",
       "      <th>count_month_poutcome</th>\n",
       "      <th>count_day_poutcome</th>\n",
       "      <th>count_day_month_poutcome/count_month_poutcome</th>\n",
       "    </tr>\n",
       "  </thead>\n",
       "  <tbody>\n",
       "    <tr>\n",
       "      <th>0</th>\n",
       "      <td>1</td>\n",
       "      <td>43</td>\n",
       "      <td>management</td>\n",
       "      <td>married</td>\n",
       "      <td>tertiary</td>\n",
       "      <td>no</td>\n",
       "      <td>291</td>\n",
       "      <td>yes</td>\n",
       "      <td>no</td>\n",
       "      <td>unknown</td>\n",
       "      <td>...</td>\n",
       "      <td>783</td>\n",
       "      <td>35.466667</td>\n",
       "      <td>338</td>\n",
       "      <td>10957</td>\n",
       "      <td>338</td>\n",
       "      <td>32.417160</td>\n",
       "      <td>338</td>\n",
       "      <td>8949</td>\n",
       "      <td>1101</td>\n",
       "      <td>26.476331</td>\n",
       "    </tr>\n",
       "    <tr>\n",
       "      <th>1</th>\n",
       "      <td>2</td>\n",
       "      <td>42</td>\n",
       "      <td>technician</td>\n",
       "      <td>divorced</td>\n",
       "      <td>primary</td>\n",
       "      <td>no</td>\n",
       "      <td>5076</td>\n",
       "      <td>yes</td>\n",
       "      <td>no</td>\n",
       "      <td>cellular</td>\n",
       "      <td>...</td>\n",
       "      <td>170</td>\n",
       "      <td>24.555556</td>\n",
       "      <td>71</td>\n",
       "      <td>2365</td>\n",
       "      <td>71</td>\n",
       "      <td>33.309859</td>\n",
       "      <td>7</td>\n",
       "      <td>202</td>\n",
       "      <td>57</td>\n",
       "      <td>28.857143</td>\n",
       "    </tr>\n",
       "    <tr>\n",
       "      <th>2</th>\n",
       "      <td>3</td>\n",
       "      <td>47</td>\n",
       "      <td>admin.</td>\n",
       "      <td>married</td>\n",
       "      <td>secondary</td>\n",
       "      <td>no</td>\n",
       "      <td>104</td>\n",
       "      <td>yes</td>\n",
       "      <td>yes</td>\n",
       "      <td>cellular</td>\n",
       "      <td>...</td>\n",
       "      <td>939</td>\n",
       "      <td>21.138554</td>\n",
       "      <td>238</td>\n",
       "      <td>5569</td>\n",
       "      <td>238</td>\n",
       "      <td>23.399160</td>\n",
       "      <td>235</td>\n",
       "      <td>5363</td>\n",
       "      <td>1192</td>\n",
       "      <td>22.821277</td>\n",
       "    </tr>\n",
       "    <tr>\n",
       "      <th>3</th>\n",
       "      <td>4</td>\n",
       "      <td>28</td>\n",
       "      <td>management</td>\n",
       "      <td>single</td>\n",
       "      <td>secondary</td>\n",
       "      <td>no</td>\n",
       "      <td>-994</td>\n",
       "      <td>yes</td>\n",
       "      <td>yes</td>\n",
       "      <td>cellular</td>\n",
       "      <td>...</td>\n",
       "      <td>575</td>\n",
       "      <td>25.415094</td>\n",
       "      <td>206</td>\n",
       "      <td>5569</td>\n",
       "      <td>206</td>\n",
       "      <td>27.033981</td>\n",
       "      <td>206</td>\n",
       "      <td>5363</td>\n",
       "      <td>1425</td>\n",
       "      <td>26.033981</td>\n",
       "    </tr>\n",
       "    <tr>\n",
       "      <th>4</th>\n",
       "      <td>5</td>\n",
       "      <td>42</td>\n",
       "      <td>technician</td>\n",
       "      <td>divorced</td>\n",
       "      <td>secondary</td>\n",
       "      <td>no</td>\n",
       "      <td>2974</td>\n",
       "      <td>yes</td>\n",
       "      <td>no</td>\n",
       "      <td>unknown</td>\n",
       "      <td>...</td>\n",
       "      <td>173</td>\n",
       "      <td>53.291667</td>\n",
       "      <td>365</td>\n",
       "      <td>10957</td>\n",
       "      <td>365</td>\n",
       "      <td>30.019178</td>\n",
       "      <td>358</td>\n",
       "      <td>8949</td>\n",
       "      <td>1386</td>\n",
       "      <td>24.997207</td>\n",
       "    </tr>\n",
       "  </tbody>\n",
       "</table>\n",
       "<p>5 rows × 102 columns</p>\n",
       "</div>"
      ],
      "text/plain": [
       "   ID  age         job   marital  education default  balance housing loan  \\\n",
       "0   1   43  management   married   tertiary      no      291     yes   no   \n",
       "1   2   42  technician  divorced    primary      no     5076     yes   no   \n",
       "2   3   47      admin.   married  secondary      no      104     yes  yes   \n",
       "3   4   28  management    single  secondary      no     -994     yes  yes   \n",
       "4   5   42  technician  divorced  secondary      no     2974     yes   no   \n",
       "\n",
       "    contact  ...  count_day_marital  \\\n",
       "0   unknown  ...                783   \n",
       "1  cellular  ...                170   \n",
       "2  cellular  ...                939   \n",
       "3  cellular  ...                575   \n",
       "4   unknown  ...                173   \n",
       "\n",
       "  count_day_month_marital/count_month_marital  count_day_month_month  \\\n",
       "0                                   35.466667                    338   \n",
       "1                                   24.555556                     71   \n",
       "2                                   21.138554                    238   \n",
       "3                                   25.415094                    206   \n",
       "4                                   53.291667                    365   \n",
       "\n",
       "   count_month_month  count_day_month  \\\n",
       "0              10957              338   \n",
       "1               2365               71   \n",
       "2               5569              238   \n",
       "3               5569              206   \n",
       "4              10957              365   \n",
       "\n",
       "   count_day_month_month/count_month_month count_day_month_poutcome  \\\n",
       "0                                32.417160                      338   \n",
       "1                                33.309859                        7   \n",
       "2                                23.399160                      235   \n",
       "3                                27.033981                      206   \n",
       "4                                30.019178                      358   \n",
       "\n",
       "   count_month_poutcome  count_day_poutcome  \\\n",
       "0                  8949                1101   \n",
       "1                   202                  57   \n",
       "2                  5363                1192   \n",
       "3                  5363                1425   \n",
       "4                  8949                1386   \n",
       "\n",
       "   count_day_month_poutcome/count_month_poutcome  \n",
       "0                                      26.476331  \n",
       "1                                      28.857143  \n",
       "2                                      22.821277  \n",
       "3                                      26.033981  \n",
       "4                                      24.997207  \n",
       "\n",
       "[5 rows x 102 columns]"
      ]
     },
     "execution_count": 9,
     "metadata": {},
     "output_type": "execute_result"
    }
   ],
   "source": [
    "allData.head()"
   ]
  },
  {
   "cell_type": "markdown",
   "metadata": {},
   "source": [
    "## 编码"
   ]
  },
  {
   "cell_type": "code",
   "execution_count": 10,
   "metadata": {},
   "outputs": [],
   "source": [
    "encodingFlag = True\n",
    "if encodingFlag:\n",
    "    for col in allData.columns[allData.dtypes == 'object']:\n",
    "        le = LabelEncoder()\n",
    "        le.fit(allData[col])\n",
    "\n",
    "        allData[col] = le.transform(allData[col])\n",
    "    allData.head()\n",
    "\n",
    "    X1 = allData[train_use_col][:trainDataLen]\n",
    "    y1 = allData['y'][:trainDataLen]\n",
    "\n",
    "    X2 = allData[trainDataLen:]"
   ]
  },
  {
   "cell_type": "markdown",
   "metadata": {},
   "source": [
    "## 数据归一化"
   ]
  },
  {
   "cell_type": "code",
   "execution_count": 1,
   "metadata": {},
   "outputs": [],
   "source": [
    "# 对于基于树的模型来说，数据变换或者归一化没什么作用\n",
    "dataScale = False\n",
    "if dataScale:\n",
    "    train_use_col = list(set(allData.columns)-set(['ID','y']))\n",
    "\n",
    "    scaler = StandardScaler()\n",
    "    scaler.fit(allData[train_use_col])\n",
    "    allData[train_use_col] = scaler.transform(allData[train_use_col])\n",
    "    allData[train_use_col].head()"
   ]
  },
  {
   "cell_type": "code",
   "execution_count": 12,
   "metadata": {},
   "outputs": [],
   "source": [
    "if dataScale:\n",
    "    X1 = allData[train_use_col][:trainDataLen]\n",
    "    y1 = allData['y'][:trainDataLen]\n",
    "\n",
    "    X2 = allData[trainDataLen:]\n",
    "\n",
    "    delElements = X1.columns[X1.isna().any()].tolist()\n",
    "    for ele in delElements:\n",
    "        train_use_col.remove(ele)\n",
    "\n",
    "    X1.head()"
   ]
  },
  {
   "cell_type": "markdown",
   "metadata": {},
   "source": [
    "## 特征选择"
   ]
  },
  {
   "cell_type": "code",
   "execution_count": 13,
   "metadata": {},
   "outputs": [
    {
     "data": {
      "text/plain": [
       "95"
      ]
     },
     "execution_count": 13,
     "metadata": {},
     "output_type": "execute_result"
    }
   ],
   "source": [
    "y1_predict = np.zeros(len(y1))\n",
    "len(train_use_col)"
   ]
  },
  {
   "cell_type": "code",
   "execution_count": 14,
   "metadata": {
    "scrolled": false
   },
   "outputs": [
    {
     "name": "stdout",
     "output_type": "stream",
     "text": [
      "fold:  0\n"
     ]
    },
    {
     "name": "stderr",
     "output_type": "stream",
     "text": [
      "C:\\ProgramData\\Anaconda3\\lib\\site-packages\\lightgbm\\engine.py:118: UserWarning: Found `n_estimators` in params. Will use it instead of argument\n",
      "  warnings.warn(\"Found `{}` in params. Will use it instead of argument\".format(alias))\n"
     ]
    },
    {
     "name": "stdout",
     "output_type": "stream",
     "text": [
      "Training until validation scores don't improve for 50 rounds.\n",
      "[300]\ttraining's auc: 0.956697\tvalid_1's auc: 0.940148\n",
      "Early stopping, best iteration is:\n",
      "[269]\ttraining's auc: 0.954968\tvalid_1's auc: 0.940232\n",
      "95\n",
      "fold:  1\n",
      "Training until validation scores don't improve for 50 rounds.\n",
      "[300]\ttraining's auc: 0.956269\tvalid_1's auc: 0.946148\n",
      "[600]\ttraining's auc: 0.969912\tvalid_1's auc: 0.949133\n",
      "Early stopping, best iteration is:\n",
      "[579]\ttraining's auc: 0.969054\tvalid_1's auc: 0.9492\n",
      "95\n",
      "fold:  2\n",
      "Training until validation scores don't improve for 50 rounds.\n",
      "[300]\ttraining's auc: 0.957209\tvalid_1's auc: 0.935612\n",
      "[600]\ttraining's auc: 0.970668\tvalid_1's auc: 0.937722\n",
      "Early stopping, best iteration is:\n",
      "[657]\ttraining's auc: 0.972926\tvalid_1's auc: 0.937846\n",
      "95\n",
      "fold:  3\n",
      "Training until validation scores don't improve for 50 rounds.\n",
      "[300]\ttraining's auc: 0.956635\tvalid_1's auc: 0.937445\n",
      "[600]\ttraining's auc: 0.97063\tvalid_1's auc: 0.940667\n",
      "Early stopping, best iteration is:\n",
      "[637]\ttraining's auc: 0.972095\tvalid_1's auc: 0.940788\n",
      "95\n",
      "fold:  4\n",
      "Training until validation scores don't improve for 50 rounds.\n",
      "[300]\ttraining's auc: 0.957394\tvalid_1's auc: 0.94113\n",
      "Early stopping, best iteration is:\n",
      "[455]\ttraining's auc: 0.964878\tvalid_1's auc: 0.941909\n",
      "95\n",
      "fold:  5\n",
      "Training until validation scores don't improve for 50 rounds.\n",
      "[300]\ttraining's auc: 0.957125\tvalid_1's auc: 0.939179\n",
      "Early stopping, best iteration is:\n",
      "[456]\ttraining's auc: 0.964792\tvalid_1's auc: 0.939636\n",
      "95\n",
      "fold:  6\n",
      "Training until validation scores don't improve for 50 rounds.\n",
      "[300]\ttraining's auc: 0.956812\tvalid_1's auc: 0.936773\n",
      "[600]\ttraining's auc: 0.970195\tvalid_1's auc: 0.93879\n",
      "Early stopping, best iteration is:\n",
      "[596]\ttraining's auc: 0.970035\tvalid_1's auc: 0.938817\n",
      "95\n",
      "fold:  7\n",
      "Training until validation scores don't improve for 50 rounds.\n",
      "[300]\ttraining's auc: 0.957229\tvalid_1's auc: 0.937577\n",
      "Early stopping, best iteration is:\n",
      "[498]\ttraining's auc: 0.96675\tvalid_1's auc: 0.939937\n",
      "95\n",
      "fold:  8\n",
      "Training until validation scores don't improve for 50 rounds.\n",
      "[300]\ttraining's auc: 0.957326\tvalid_1's auc: 0.934496\n",
      "Early stopping, best iteration is:\n",
      "[509]\ttraining's auc: 0.967302\tvalid_1's auc: 0.936074\n",
      "95\n",
      "fold:  9\n",
      "Training until validation scores don't improve for 50 rounds.\n",
      "[300]\ttraining's auc: 0.956748\tvalid_1's auc: 0.940121\n",
      "[600]\ttraining's auc: 0.970563\tvalid_1's auc: 0.943982\n",
      "Early stopping, best iteration is:\n",
      "[629]\ttraining's auc: 0.971762\tvalid_1's auc: 0.944043\n",
      "95\n",
      "roc_auc_score:   0.9402268329459089\n"
     ]
    }
   ],
   "source": [
    "params1 = {\n",
    "    'task':'train',\n",
    "    'boosting_type':'gbdt',\n",
    "    'objective':'binary',\n",
    "    'metric':{'auc'},\n",
    "    'verbose':0,\n",
    "    'learning_rate':0.01,\n",
    "    'is_unbalance':True,\n",
    "    'num_leaves' : 30,\n",
    "    'reg_alpha' : 0,\n",
    "    'reg_lambda' : 0,\n",
    "    'max_depth' : -1,\n",
    "    'n_estimators' : 1500,\n",
    "    'colsample_bytree':0.7,\n",
    "    'subsample':0.95,\n",
    "    'subsample_freq':1,\n",
    "    'random_state':201907\n",
    "}\n",
    "\n",
    "n_splits = 10\n",
    "kfold = KFold(n_splits, shuffle=True, random_state=88)\n",
    "pred = 0\n",
    "i = 0\n",
    "fold_importance={}\n",
    "for train_idx, val_idx in kfold.split(X1[train_use_col]):\n",
    "    print(\"fold: \",i)\n",
    "    i=i+1\n",
    "    train_data = lgb.Dataset(X1.loc[train_idx][train_use_col], label = y1.loc[train_idx])\n",
    "    val_data = lgb.Dataset(X1.loc[val_idx][train_use_col], label = y1.loc[val_idx])\n",
    "    \n",
    "    model = lgb.train(params1,\n",
    "                  train_data,\n",
    "                  num_boost_round=1000,\n",
    "                  valid_sets=[train_data,val_data],\n",
    "                  early_stopping_rounds=50,\n",
    "                  # categorical_feature=['job','marital','education','default','housing','loan','contact','poutcome'],\n",
    "                  verbose_eval = 300\n",
    "                 )\n",
    "    pred += model.predict(X2[train_use_col],num_iteratio=model.best_iteration)\n",
    "    print(len(model.feature_importance()))\n",
    "    fold_importance[\"importance_fold_{}\".format(i)] = model.feature_importance()\n",
    "    y1_predict[val_idx] = model.predict(X1.loc[val_idx,:][train_use_col], num_iteration=model.best_iteration)\n",
    "    \n",
    "pred = pred / n_splits\n",
    "print(\"roc_auc_score:  \",roc_auc_score(y1, y1_predict))"
   ]
  },
  {
   "cell_type": "code",
   "execution_count": 15,
   "metadata": {},
   "outputs": [
    {
     "data": {
      "text/plain": [
       "95"
      ]
     },
     "execution_count": 15,
     "metadata": {},
     "output_type": "execute_result"
    }
   ],
   "source": [
    "len(train_use_col)"
   ]
  },
  {
   "cell_type": "code",
   "execution_count": 16,
   "metadata": {
    "scrolled": false
   },
   "outputs": [],
   "source": [
    "fold_importance['sum'] = 0\n",
    "for i in range(1,n_splits+1):\n",
    "    fold_importance['sum'] += fold_importance['importance_fold_{}'.format(i)]\n",
    "train_use_col = np.array(train_use_col)[(fold_importance['sum']!=0).tolist()].tolist()"
   ]
  },
  {
   "cell_type": "code",
   "execution_count": 17,
   "metadata": {
    "scrolled": false
   },
   "outputs": [
    {
     "data": {
      "text/plain": [
       "95"
      ]
     },
     "execution_count": 17,
     "metadata": {},
     "output_type": "execute_result"
    }
   ],
   "source": [
    "len(train_use_col)\n",
    "len((fold_importance['sum']).tolist())"
   ]
  },
  {
   "cell_type": "markdown",
   "metadata": {},
   "source": [
    "## 模型搭建"
   ]
  },
  {
   "cell_type": "code",
   "execution_count": 18,
   "metadata": {},
   "outputs": [],
   "source": [
    "y1_predict = np.zeros(len(y1))"
   ]
  },
  {
   "cell_type": "code",
   "execution_count": 19,
   "metadata": {},
   "outputs": [
    {
     "name": "stdout",
     "output_type": "stream",
     "text": [
      "fold:  0\n"
     ]
    },
    {
     "name": "stderr",
     "output_type": "stream",
     "text": [
      "C:\\ProgramData\\Anaconda3\\lib\\site-packages\\lightgbm\\engine.py:118: UserWarning: Found `n_estimators` in params. Will use it instead of argument\n",
      "  warnings.warn(\"Found `{}` in params. Will use it instead of argument\".format(alias))\n"
     ]
    },
    {
     "name": "stdout",
     "output_type": "stream",
     "text": [
      "Training until validation scores don't improve for 50 rounds.\n",
      "[300]\ttraining's auc: 0.956697\tvalid_1's auc: 0.940148\n",
      "Early stopping, best iteration is:\n",
      "[269]\ttraining's auc: 0.954968\tvalid_1's auc: 0.940232\n",
      "fold:  1\n",
      "Training until validation scores don't improve for 50 rounds.\n",
      "[300]\ttraining's auc: 0.956269\tvalid_1's auc: 0.946148\n",
      "[600]\ttraining's auc: 0.969912\tvalid_1's auc: 0.949133\n",
      "Early stopping, best iteration is:\n",
      "[579]\ttraining's auc: 0.969054\tvalid_1's auc: 0.9492\n",
      "fold:  2\n",
      "Training until validation scores don't improve for 50 rounds.\n",
      "[300]\ttraining's auc: 0.957209\tvalid_1's auc: 0.935612\n",
      "[600]\ttraining's auc: 0.970668\tvalid_1's auc: 0.937722\n",
      "Early stopping, best iteration is:\n",
      "[657]\ttraining's auc: 0.972926\tvalid_1's auc: 0.937846\n",
      "fold:  3\n",
      "Training until validation scores don't improve for 50 rounds.\n",
      "[300]\ttraining's auc: 0.956635\tvalid_1's auc: 0.937445\n",
      "[600]\ttraining's auc: 0.97063\tvalid_1's auc: 0.940667\n",
      "Early stopping, best iteration is:\n",
      "[637]\ttraining's auc: 0.972095\tvalid_1's auc: 0.940788\n",
      "fold:  4\n",
      "Training until validation scores don't improve for 50 rounds.\n",
      "[300]\ttraining's auc: 0.957394\tvalid_1's auc: 0.94113\n",
      "Early stopping, best iteration is:\n",
      "[455]\ttraining's auc: 0.964878\tvalid_1's auc: 0.941909\n",
      "fold:  5\n",
      "Training until validation scores don't improve for 50 rounds.\n",
      "[300]\ttraining's auc: 0.957125\tvalid_1's auc: 0.939179\n",
      "Early stopping, best iteration is:\n",
      "[456]\ttraining's auc: 0.964792\tvalid_1's auc: 0.939636\n",
      "fold:  6\n",
      "Training until validation scores don't improve for 50 rounds.\n",
      "[300]\ttraining's auc: 0.956812\tvalid_1's auc: 0.936773\n",
      "[600]\ttraining's auc: 0.970195\tvalid_1's auc: 0.93879\n",
      "Early stopping, best iteration is:\n",
      "[596]\ttraining's auc: 0.970035\tvalid_1's auc: 0.938817\n",
      "fold:  7\n",
      "Training until validation scores don't improve for 50 rounds.\n",
      "[300]\ttraining's auc: 0.957229\tvalid_1's auc: 0.937577\n",
      "Early stopping, best iteration is:\n",
      "[498]\ttraining's auc: 0.96675\tvalid_1's auc: 0.939937\n",
      "fold:  8\n",
      "Training until validation scores don't improve for 50 rounds.\n",
      "[300]\ttraining's auc: 0.957326\tvalid_1's auc: 0.934496\n",
      "Early stopping, best iteration is:\n",
      "[509]\ttraining's auc: 0.967302\tvalid_1's auc: 0.936074\n",
      "fold:  9\n",
      "Training until validation scores don't improve for 50 rounds.\n",
      "[300]\ttraining's auc: 0.956748\tvalid_1's auc: 0.940121\n",
      "[600]\ttraining's auc: 0.970563\tvalid_1's auc: 0.943982\n",
      "Early stopping, best iteration is:\n",
      "[629]\ttraining's auc: 0.971762\tvalid_1's auc: 0.944043\n",
      "roc_auc_score:   0.9402268329459089\n"
     ]
    }
   ],
   "source": [
    "params1 = {\n",
    "    'task':'train',\n",
    "    'boosting_type':'gbdt',\n",
    "    'objective':'binary',\n",
    "    'metric':{'auc'},\n",
    "    'verbose':0,\n",
    "    'learning_rate':0.01,\n",
    "    'is_unbalance':True,\n",
    "    'num_leaves' : 30,\n",
    "    'reg_alpha' : 0,\n",
    "    'reg_lambda' : 0,\n",
    "    'max_depth' : -1,\n",
    "    'n_estimators' : 1500,\n",
    "    'colsample_bytree':0.7,\n",
    "    'subsample':0.95,\n",
    "    'subsample_freq':1,\n",
    "    'random_state':201907\n",
    "}\n",
    "params2 = {'num_leaves': 31,\n",
    "         'min_data_in_leaf': 30, \n",
    "         'objective':'binary',\n",
    "         'max_depth': -1,\n",
    "         'learning_rate': 0.01,\n",
    "         \"min_child_samples\": 20,\n",
    "         \"boosting\": \"gbdt\",\n",
    "         \"feature_fraction\": 0.9,\n",
    "         \"bagging_freq\": 1,\n",
    "         \"bagging_fraction\": 0.9 ,\n",
    "         \"bagging_seed\": 11,\n",
    "         \"metric\": 'auc',\n",
    "         \"lambda_l1\": 0.1,\n",
    "         \"verbosity\": -1,\n",
    "         \"nthread\": 4,\n",
    "         \"random_state\": 666}\n",
    "params3 = {\n",
    "    'learning_rate': 0.01,\n",
    "    'boosting_type': 'gbdt',\n",
    "    'objective': 'binary',\n",
    "    'metric': 'auc',\n",
    "    'min_child_samples': 46,\n",
    "    'min_child_weight': 0.01,\n",
    "    'feature_fraction': 0.6,\n",
    "    'bagging_fraction': 0.8,\n",
    "    'bagging_freq': 2,\n",
    "    'num_leaves': 31,\n",
    "    'max_depth': 5,\n",
    "    'lambda_l2': 1,\n",
    "    'lambda_l1': 0,\n",
    "    'n_jobs': -1,\n",
    "    'seed': 4590\n",
    "}\n",
    "\n",
    "n_splits = 10\n",
    "kfold = KFold(n_splits, shuffle=True, random_state=88)\n",
    "pred = 0\n",
    "i = 0\n",
    "fold_importance={}\n",
    "for train_idx, val_idx in kfold.split(X1[train_use_col]):\n",
    "    print(\"fold: \",i)\n",
    "    i=i+1\n",
    "    train_data = lgb.Dataset(X1.loc[train_idx][train_use_col], label = y1.loc[train_idx])\n",
    "    val_data = lgb.Dataset(X1.loc[val_idx][train_use_col], label = y1.loc[val_idx])\n",
    "    \n",
    "    model = lgb.train(params1,\n",
    "                  train_data,\n",
    "                  num_boost_round=1000,\n",
    "                  valid_sets=[train_data,val_data],\n",
    "                  early_stopping_rounds=50,\n",
    "                  # categorical_feature=['job','marital','education','default','housing','loan','contact','poutcome'],\n",
    "                  verbose_eval = 300\n",
    "                 )\n",
    "    pred += model.predict(X2[train_use_col],num_iteratio=model.best_iteration)\n",
    "    fold_importance[\"importance_fold_{}\".format(i)] = model.feature_importance()\n",
    "    y1_predict[val_idx] = model.predict(X1.loc[val_idx,:][train_use_col], num_iteration=model.best_iteration)\n",
    "    \n",
    "pred = pred / n_splits\n",
    "\n",
    "print(\"roc_auc_score:  \",roc_auc_score(y1, y1_predict))"
   ]
  },
  {
   "cell_type": "markdown",
   "metadata": {},
   "source": [
    "## 输出比赛结果"
   ]
  },
  {
   "cell_type": "code",
   "execution_count": 20,
   "metadata": {},
   "outputs": [],
   "source": [
    "resultData = pd.DataFrame(pred, index=X2['ID'], columns=['pred'])\n",
    "resultData.to_csv('result.csv')"
   ]
  },
  {
   "cell_type": "code",
   "execution_count": null,
   "metadata": {},
   "outputs": [],
   "source": []
  }
 ],
 "metadata": {
  "kernelspec": {
   "display_name": "Python 3",
   "language": "python",
   "name": "python3"
  },
  "language_info": {
   "codemirror_mode": {
    "name": "ipython",
    "version": 3
   },
   "file_extension": ".py",
   "mimetype": "text/x-python",
   "name": "python",
   "nbconvert_exporter": "python",
   "pygments_lexer": "ipython3",
   "version": "3.7.3"
  }
 },
 "nbformat": 4,
 "nbformat_minor": 2
}
